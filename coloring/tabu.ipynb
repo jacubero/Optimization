{
 "cells": [
  {
   "cell_type": "markdown",
   "metadata": {},
   "source": [
    "# Graph Coloring"
   ]
  },
  {
   "cell_type": "markdown",
   "metadata": {},
   "source": [
    "## References"
   ]
  },
  {
   "cell_type": "markdown",
   "metadata": {},
   "source": [
    "[1] Hertz, A., & Werra, D. D., 1987. Using tabu search techniques for graph coloring. *Computing*, 39(4), 345–351."
   ]
  },
  {
   "cell_type": "markdown",
   "metadata": {},
   "source": [
    "## Model Formulation\n",
    "\n",
    "### Sets and Indices\n",
    "\n",
    "$i,j \\in V=\\{ 0, \\ldots, n-1 \\}$: Indices and set of vertices.\n",
    "\n",
    "### Parameters\n",
    "\n",
    "$n \\in \\mathbb{N}$: number of nodes.\n",
    "\n",
    "$(i,j) \\in E \\subseteq V^2$: Set of edges.\n",
    "\n",
    "### Decision Variables\n",
    "\n",
    "$c_{i} \\in \\{ 0, \\ldots, n-1 \\}$: Color of item $i \\in I$.\n",
    "\n",
    "### Objective Function\n",
    "\n",
    "- **Number of colors**. We want to minimize the number of colors.\n",
    "\n",
    "\\begin{equation}\n",
    "\\min Z=\\max_{i \\in \\{ 0, \\ldots, n-1 \\}} c_i\n",
    "\\tag{0}\n",
    "\\end{equation}\n",
    "\n",
    "### Constraints\n",
    "\n",
    "- **Adjacent vertices**. No two adjacent vertices have the same color:\n",
    "\n",
    "\\begin{equation}\n",
    "c_i \\neq c_j \\forall (i,j) \\in E\n",
    "\\tag{1}\n",
    "\\end{equation}"
   ]
  },
  {
   "cell_type": "markdown",
   "metadata": {},
   "source": [
    "# Python implementation"
   ]
  },
  {
   "cell_type": "markdown",
   "metadata": {},
   "source": [
    "## Import the libraries\n",
    "\n",
    "The following code imports the required libraries."
   ]
  },
  {
   "cell_type": "code",
   "execution_count": 6,
   "metadata": {},
   "outputs": [
    {
     "ename": "ModuleNotFoundError",
     "evalue": "No module named 'ortools'",
     "output_type": "error",
     "traceback": [
      "\u001b[1;31m---------------------------------------------------------------------------\u001b[0m",
      "\u001b[1;31mModuleNotFoundError\u001b[0m                       Traceback (most recent call last)",
      "Cell \u001b[1;32mIn[6], line 1\u001b[0m\n\u001b[1;32m----> 1\u001b[0m \u001b[38;5;28;01mfrom\u001b[39;00m \u001b[38;5;21;01mortools\u001b[39;00m\u001b[38;5;21;01m.\u001b[39;00m\u001b[38;5;21;01malgorithms\u001b[39;00m\u001b[38;5;21;01m.\u001b[39;00m\u001b[38;5;21;01mpython\u001b[39;00m \u001b[38;5;28;01mimport\u001b[39;00m knapsack_solver\n\u001b[0;32m      2\u001b[0m \u001b[38;5;28;01mimport\u001b[39;00m \u001b[38;5;21;01mpandas\u001b[39;00m \u001b[38;5;28;01mas\u001b[39;00m \u001b[38;5;21;01mpd\u001b[39;00m\n",
      "\u001b[1;31mModuleNotFoundError\u001b[0m: No module named 'ortools'"
     ]
    }
   ],
   "source": [
    "from time import time\n",
    "from random import randrange, choice, sample\n",
    "from queue import Queue\n",
    "from collections import deque\n",
    "import pandas as pd"
   ]
  },
  {
   "cell_type": "markdown",
   "metadata": {},
   "source": [
    "## Definitions"
   ]
  },
  {
   "cell_type": "markdown",
   "metadata": {},
   "source": [
    "### Structures"
   ]
  },
  {
   "cell_type": "code",
   "execution_count": null,
   "metadata": {},
   "outputs": [],
   "source": [
    "# A dictionary of the list of nodes adjacent to each node\n",
    "adjacent_dict = {}\n",
    "\n",
    "# Tabu table\n",
    "class Tabu:\n",
    "    def __init__(self, tabu_size):\n",
    "        self.tabu_hash = set()\n",
    "        self.tabu_queue = deque()\n",
    "        self.tabu_size = tabu_size\n",
    "\n",
    "    def is_find(self, node):\n",
    "        return node in self.tabu_hash\n",
    "\n",
    "    def push(self, node):\n",
    "        if self.is_find(node):\n",
    "            return\n",
    "\n",
    "        self.tabu_hash.add(node)\n",
    "        self.tabu_queue.append(node)\n",
    "\n",
    "        if len(self.tabu_hash) > self.tabu_size:\n",
    "            self.pop()\n",
    "\n",
    "    def pop(self):\n",
    "        top = self.tabu_queue.popleft()\n",
    "        self.tabu_hash.remove(top)"
   ]
  },
  {
   "cell_type": "markdown",
   "metadata": {},
   "source": [
    "### Constants"
   ]
  },
  {
   "cell_type": "code",
   "execution_count": null,
   "metadata": {},
   "outputs": [],
   "source": [
    "# The length of tabu list is set to 1/tabu_ratio_size of the number of nodes\n",
    "tabu_ratio_size = 10\n",
    "# Times to retry if we did not find a feasible solution in a given number of steps.\n",
    "retry_limit = 100\n",
    "# Maximum step to try. \n",
    "# one step means change the color of a node\n",
    "step_limit = 50000"
   ]
  },
  {
   "cell_type": "markdown",
   "metadata": {},
   "source": [
    "## Color dealing"
   ]
  },
  {
   "cell_type": "code",
   "execution_count": null,
   "metadata": {},
   "outputs": [],
   "source": [
    "# Reinitialize color choice for every node\n",
    "def initialize_color(total_color_count):\n",
    "\n",
    "    new_color_list = sample(range(total_color_count), total_color_count)\n",
    "    return new_color_list\n",
    "    \n",
    "# Change the color of a node\n",
    "def change_color(node, node_neighbor_list, color_list, total_color_count, violation_dict, total_violation):\n",
    "\n",
    "    # Count the color distribution of neighbor nodes\n",
    "    color_count = [0] * total_color_count\n",
    "    for neighbor in node_neighbor_list:\n",
    "        neighbor_color = color_list[neighbor]\n",
    "        color_count[neighbor_color] += 1\n",
    "\n",
    "    min_color_count = float('inf')\n",
    "    min_color_list = []\n",
    "\n",
    "    # Select color with least violation with neighbor\n",
    "    for color in range(total_color_count):\n",
    "        # skip its own color\n",
    "        if color == color_list[node]:\n",
    "            continue\n",
    "\n",
    "        # If the color violation is smaller than the min color violation, clear the candidate list and add the color to it\n",
    "        if min_color_count > color_count[color]:\n",
    "            min_color_count = color_count[color]\n",
    "            min_color_list = [color]\n",
    "        \n",
    "        # If the color violation is the min color violation, add the color to candidate list\n",
    "        elif min_color_count == color_count[color]:\n",
    "            min_color_list.append(color)\n",
    "\n",
    "    # We must find at least one color\n",
    "    assert min_color_list\n",
    "\n",
    "    # Random sample a color from the candidate list\n",
    "    new_color = choice(min_color_list)\n",
    "\n",
    "    # Update violation for the node and its neighbor\n",
    "    # Update total violation\n",
    "    for neighbor in node_neighbor_list:\n",
    "        if color_list[neighbor] == color_list[node]:\n",
    "            violation_dict[neighbor] -=1\n",
    "            violation_dict[node] -=1\n",
    "            total_violation -= 2\n",
    "        elif color_list[neighbor] == new_color:\n",
    "            violation_dict[neighbor] +=1\n",
    "            violation_dict[node] +=1\n",
    "            total_violation += 2\n",
    "\n",
    "    color_list[node] = new_color\n",
    "\n",
    "# Remove a color from current color choice\n",
    "# it works like this, suppose there are total 10 colors from 0 ~ 9, the current color choice is:\n",
    "# 7 1 4 2 5 9 0 3 6 8 5 9 0 4 \n",
    "# If we want to remove color 5, for each color that is bigger than 5, we minus it by 1:\n",
    "# 6 1 4 2 5 8 0 3 5 7 5 8 0 4\n",
    "# then for each color equals to 5 we set it to a random color from 0 ~ 8:\n",
    "# 6 1 4 2 3 8 0 3 1 7 4 8 0 4\n",
    "def remove_color(color_list, total_color_count):\n",
    "\n",
    "    color_to_remove = randrange(total_color_count)\n",
    "    new_color_list = []\n",
    "\n",
    "    for c in color_list:\n",
    "        if c == color_to_remove:\n",
    "            # For each color equal to color_to_remove, set it to a random color from 0 to total_color_count - 2\n",
    "            new_color_list.append(randrange(total_color_count - 1))\n",
    "        elif c > color_to_remove:\n",
    "            # Decrement the index for colors greater than color_to_remove\n",
    "            new_color_list.append(c - 1)\n",
    "        else:\n",
    "            # Keep the colors less than color_to_remove unchanged\n",
    "            new_color_list.append(c)\n",
    "\n",
    "    return new_color_list"
   ]
  },
  {
   "cell_type": "markdown",
   "metadata": {},
   "source": [
    "## Node selection"
   ]
  },
  {
   "cell_type": "code",
   "execution_count": null,
   "metadata": {},
   "outputs": [],
   "source": [
    "# Count violation for every node and count total violation\n",
    "def init_violation(adjacent_dict, color_list):\n",
    "\n",
    "    violation_dict = {}\n",
    "    total_violation = 0\n",
    "\n",
    "    for node in adjacent_dict:\n",
    "        violation = 0\n",
    "\n",
    "        for neighbor in adjacent_dict[node]:\n",
    "            if color_list[node] == color_list[neighbor]:\n",
    "                violation += 1\n",
    "\n",
    "        violation_dict[node] = violation\n",
    "        total_violation += violation\n",
    "\n",
    "    return violation_dict, total_violation\n",
    "\n",
    "# Select next node to change color\n",
    "def select_next_node(violation_dict, tabu):\n",
    "    max_violation = float('-inf')\n",
    "    max_violation_node_list = []\n",
    "\n",
    "    for node in violation_dict:\n",
    "        # Skip nodes with no violation\n",
    "        if violation_dict[node] == 0:\n",
    "            continue\n",
    "\n",
    "        # Skip nodes in tabu list\n",
    "        if tabu.is_find(node):\n",
    "            continue\n",
    "\n",
    "        # If violation is max violation, add the node to candidate list\n",
    "        if max_violation == violation_dict[node]:\n",
    "            max_violation_node_list.append(node)\n",
    "\n",
    "        # If violation is bigger than max violation, clear the candidate list and add the node\n",
    "        elif max_violation < violation_dict[node]:\n",
    "            max_violation = violation_dict[node]\n",
    "            max_violation_node_list = [node]\n",
    "\n",
    "    # If no nodes with violations are available, select a random node from those in the tabu list\n",
    "    if not max_violation_node_list:\n",
    "        max_violation_node_list = [node for node in tabu.tabu_hash]\n",
    "\n",
    "    if not max_violation_node_list:\n",
    "        return -1\n",
    "\n",
    "    # Random sample a node from candidate list\n",
    "    return choice(max_violation_node_list)"
   ]
  },
  {
   "cell_type": "markdown",
   "metadata": {},
   "source": [
    "## Check feasibility"
   ]
  },
  {
   "cell_type": "code",
   "execution_count": null,
   "metadata": {},
   "outputs": [],
   "source": [
    "# Check feasibility of current number of colors\n",
    "def is_feasible(adjacent_dict, color_list, total_color_count, tabu_size):\n",
    "\n",
    "    # one step means change the color of a node\n",
    "    step_count = 0\n",
    "\n",
    "    violation_dict, total_violation = init_violation(adjacent_dict, color_list)\n",
    "\n",
    "    # Tabu hash table and tabu queue, they contain same data\n",
    "    # use hash table to accelerate retrieval, use queue to make the tabu list FIFO (First In First Out)\n",
    "    tabu = Tabu(tabu_size)\n",
    "\n",
    "    while step_count < step_limit and total_violation > 0:\n",
    "\n",
    "        # Select next node to change color\n",
    "        node = select_next_node(violation_dict, tabu)\n",
    "\n",
    "        # If cannot select next node, maybe the tabu list is too long, then pop one element from the tabu list\n",
    "        while node == -1:\n",
    "            tabu.pop()\n",
    "            node = select_next_node(violation_dict, tabu)\n",
    "        \n",
    "        # Add the selected node to tabu list\n",
    "        tabu.push(node)\n",
    "\n",
    "        # Change color of the selected code\n",
    "        change_color(node, adjacent_dict[node], color_list, total_color_count, violation_dict, total_violation)\n",
    "        \n",
    "        step_count +=1\n",
    "\n",
    "    return total_violation == 0, step_count"
   ]
  },
  {
   "cell_type": "markdown",
   "metadata": {},
   "source": [
    "## Save solution"
   ]
  },
  {
   "cell_type": "code",
   "execution_count": null,
   "metadata": {},
   "outputs": [],
   "source": [
    "def save_solution(filename, feasible_color_count, feasible_color_list):\n",
    "    # Write the output to filename\n",
    "    with open(filename, \"w\") as f:\n",
    "        output_data = str(feasible_color_count) + ' ' + str(0) + '\\n'\n",
    "        output_data += ' '.join(map(str, feasible_color_list))\n",
    "        output_data += '\\n'\n",
    "        f.write(output_data)\n",
    "        f.close()"
   ]
  },
  {
   "cell_type": "markdown",
   "metadata": {},
   "source": [
    "## Search procedure"
   ]
  },
  {
   "cell_type": "code",
   "execution_count": null,
   "metadata": {},
   "outputs": [],
   "source": [
    "# Search the minimum number of colors for a graph\n",
    "# Return the color choice of every node and the total number of colors\n",
    "def search(adjacent_dict, color_list, init_color_count,node_count):\n",
    "\n",
    "    # Set the length of tabu list to 1/tabu_ratio_size of the number of nodes\n",
    "    tabu_limit = max(int(node_count / tabu_ratio_size), 1)\n",
    "\n",
    "    feasible_color_list = [-1]\n",
    "    feasible_color_count = -1\n",
    "\n",
    "    for color_count in range(init_color_count, 1, -1):\n",
    "        # Times to retry if did not find feasible solution in a given number of steps.\n",
    "        retry_count = 0\n",
    "\n",
    "        while True:\n",
    "            feasible, step_count = is_feasible(adjacent_dict, color_list, color_count, tabu_limit)\n",
    "\n",
    "            if feasible:\n",
    "                print(f\"{color_count} colors is feasible, tried {step_count} step\")\n",
    "                feasible_color_list = color_list\n",
    "                feasible_color_count = color_count\n",
    "                filename = str(color_count) + \".txt\"\n",
    "\n",
    "                save_solution(filename, feasible_color_count, feasible_color_list)\n",
    "\n",
    "                color_list = remove_color(feasible_color_list, feasible_color_count)\n",
    "                break\n",
    "\n",
    "            retry_count +=1\n",
    "            if retry_count >= retry_limit:\n",
    "                 return feasible_color_list, feasible_color_count\n",
    "\n",
    "            print(f\"[Number of colors {color_count:4d}][Retry {retry_count:5d}] reinitializing color\")\n",
    "            color_list = remove_color(feasible_color_list, feasible_color_count)\n",
    "\n",
    "    return feasible_color_list, feasible_color_count"
   ]
  },
  {
   "cell_type": "markdown",
   "metadata": {},
   "source": [
    "## Create the data\n",
    "\n",
    "The code below creates the data for the problem.  "
   ]
  },
  {
   "cell_type": "markdown",
   "metadata": {},
   "source": [
    "### Read the file"
   ]
  },
  {
   "cell_type": "code",
   "execution_count": null,
   "metadata": {},
   "outputs": [],
   "source": [
    "url = 'https://raw.githubusercontent.com/jacubero/Optimization/main/coloring/data/gc_50_3'\n",
    "df = pd.read_csv(url, sep=\" \", header=None)\n",
    "df.head()"
   ]
  },
  {
   "cell_type": "code",
   "execution_count": null,
   "metadata": {},
   "outputs": [],
   "source": [
    "node_count = int(df.at[0,0])\n",
    "edge_count = int(df.at[0,1])\n",
    "\n",
    "print(\"Number of nodes =\", node_count)\n",
    "print(\"Number of edges =\", edge_count)\n",
    "\n",
    "for i in range(1, edge_count + 1):\n",
    "    vs = int(df.at[i,0])\n",
    "    ve = int(df.at[i,1])\n",
    "    if vs in adjacent_dict:\n",
    "        adjacent_dict[vs].append(ve)\n",
    "    else:\n",
    "        adjacent_dict[vs] = [ve]\n",
    "    if ve in adjacent_dict:        \n",
    "        adjacent_dict[ve].append(vs)\n",
    "    else:\n",
    "        adjacent_dict[ve] = [vs]\n",
    "\n",
    "color_list = initialize_color(node_count)\n",
    "init_color_count = node_count"
   ]
  },
  {
   "cell_type": "markdown",
   "metadata": {},
   "source": [
    "### Search"
   ]
  },
  {
   "cell_type": "code",
   "execution_count": null,
   "metadata": {},
   "outputs": [],
   "source": [
    "feasible_color_list, feasible_color_count = search(adjacent_dict, color_list, init_color_count, node_count)"
   ]
  },
  {
   "cell_type": "markdown",
   "metadata": {},
   "source": [
    "## Prints the solution\n",
    "\n",
    "Prints the solution in the specified output format"
   ]
  },
  {
   "cell_type": "code",
   "execution_count": null,
   "metadata": {},
   "outputs": [],
   "source": [
    "# Prepare the solution in the specified output format\n",
    "output_data = str(feasible_color_count) + ' ' + str(0) + '\\n'\n",
    "output_data += ' '.join(map(str, feasible_color_list))\n",
    "\n",
    "print(output_data)"
   ]
  },
  {
   "cell_type": "markdown",
   "metadata": {},
   "source": [
    "## Visualize the solution"
   ]
  },
  {
   "cell_type": "markdown",
   "metadata": {},
   "source": [
    "### Import libraries"
   ]
  },
  {
   "cell_type": "code",
   "execution_count": null,
   "metadata": {},
   "outputs": [],
   "source": [
    "import networkx as nx\n",
    "import matplotlib.pyplot as plt\n",
    "import numpy as np"
   ]
  },
  {
   "cell_type": "markdown",
   "metadata": {},
   "source": [
    "### Generate colors used in nodes"
   ]
  },
  {
   "cell_type": "code",
   "execution_count": null,
   "metadata": {},
   "outputs": [],
   "source": [
    "def generate_colors(num_colors):\n",
    "    cmap = plt.get_cmap('tab20')  # You can choose a different colormap\n",
    "    colors = [cmap(i) for i in np.linspace(0, 1, num_colors)]\n",
    "    return colors"
   ]
  },
  {
   "cell_type": "markdown",
   "metadata": {},
   "source": [
    "### Create graph "
   ]
  },
  {
   "cell_type": "code",
   "execution_count": null,
   "metadata": {},
   "outputs": [],
   "source": [
    "node_list = range(node_count)\n",
    "edge_list = []\n",
    "for i in range(1, edge_count + 1):\n",
    "    edge_list.append((df.at[i,0], df.at[i,1]))\n",
    "\n",
    "# Create a networkx graph from the edges\n",
    "G = nx.Graph()\n",
    "G.add_nodes_from(node_list)\n",
    "G.add_edges_from(edge_list)"
   ]
  },
  {
   "cell_type": "markdown",
   "metadata": {},
   "source": [
    "### Plot graph"
   ]
  },
  {
   "cell_type": "code",
   "execution_count": null,
   "metadata": {},
   "outputs": [],
   "source": [
    "plot_colors = generate_colors(feasible_color_count)\n",
    "\n",
    "node_color_list = [plot_colors[color] for color in feasible_color_list]\n",
    "\n",
    "# Draw the graph with node colors\n",
    "pos = nx.spring_layout(G)  # You can use different layout algorithms\n",
    "\n",
    "# Draw nodes with specified colors\n",
    "nx.draw(G, pos, with_labels=True, node_size=700, node_color=node_color_list)\n",
    "\n",
    "# Display the graph\n",
    "plt.show()"
   ]
  },
  {
   "cell_type": "markdown",
   "metadata": {},
   "source": [
    "# Shell script execution"
   ]
  },
  {
   "cell_type": "markdown",
   "metadata": {},
   "source": [
    "## Upload data"
   ]
  },
  {
   "cell_type": "code",
   "execution_count": null,
   "metadata": {},
   "outputs": [],
   "source": [
    "%%shell\n",
    "\n",
    "wget -nc -P ./data https://raw.githubusercontent.com/jacubero/Optimization/main/coloring/data/data.zip\n",
    "cd data\n",
    "unzip data.zip\n",
    "rm data.zip\n",
    "ls"
   ]
  },
  {
   "cell_type": "markdown",
   "metadata": {},
   "source": [
    "## Execute solver"
   ]
  },
  {
   "cell_type": "code",
   "execution_count": null,
   "metadata": {},
   "outputs": [],
   "source": [
    "%%shell\n",
    "\n",
    "wget -nc https://raw.githubusercontent.com/jacubero/Optimization/main/coloring/tabu/solver.py\n",
    "\n",
    "mkdir -p tabu\n",
    "\n",
    "for file in $(ls ./data/*)\n",
    "do\n",
    "  filename=\"$(basename \"$file\")\"\n",
    "  python3 solver.py $file > ./tabu/$filename.tab\n",
    "  rm *.txt\n",
    "done"
   ]
  }
 ],
 "metadata": {
  "kernelspec": {
   "display_name": "Python 3",
   "language": "python",
   "name": "python3"
  },
  "language_info": {
   "codemirror_mode": {
    "name": "ipython",
    "version": 3
   },
   "file_extension": ".py",
   "mimetype": "text/x-python",
   "name": "python",
   "nbconvert_exporter": "python",
   "pygments_lexer": "ipython3",
   "version": "3.8.5"
  }
 },
 "nbformat": 4,
 "nbformat_minor": 2
}
