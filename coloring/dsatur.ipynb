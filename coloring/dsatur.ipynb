{
 "cells": [
  {
   "cell_type": "markdown",
   "metadata": {},
   "source": [
    "# DSatur algorithm"
   ]
  },
  {
   "cell_type": "markdown",
   "metadata": {},
   "source": [
    "## References"
   ]
  },
  {
   "cell_type": "markdown",
   "metadata": {},
   "source": [
    "[1] Brélaz, D., 1979. New methods to color the vertices of a graph. *Communications of the ACM*, 22(4), 251-256.\n",
    "\n",
    "[2] https://github.com/bruscalia/optimization-demo-files/blob/1fa7a3825421d0b166195d890f2629c576cfbfda/graph-coloring/graph_coloring.ipynb"
   ]
  },
  {
   "cell_type": "markdown",
   "metadata": {},
   "source": [
    "## Model Formulation\n",
    "\n",
    "### Sets and Indices\n",
    "\n",
    "$i,j \\in V=\\{ 0, \\ldots, n-1 \\}$: Indices and set of vertices.\n",
    "\n",
    "### Parameters\n",
    "\n",
    "$n \\in \\mathbb{N}$: number of nodes.\n",
    "\n",
    "$(i,j) \\in E \\subseteq V^2$: Set of edges.\n",
    "\n",
    "### Decision Variables\n",
    "\n",
    "$c_{i} \\in \\{ 0, \\ldots, n-1 \\}$: Color of node $i \\in V$.\n",
    "\n",
    "### Objective Function\n",
    "\n",
    "- **Number of colors**. We want to minimize the number of colors.\n",
    "\n",
    "\\begin{equation}\n",
    "\\min Z=\\max_{i \\in \\{ 0, \\ldots, n-1 \\}} c_i\n",
    "\\tag{0}\n",
    "\\end{equation}\n",
    "\n",
    "### Constraints\n",
    "\n",
    "- **Adjacent vertices**. No two adjacent vertices have the same color:\n",
    "\n",
    "\\begin{equation}\n",
    "c_i \\neq c_j \\forall (i,j) \\in E\n",
    "\\tag{1}\n",
    "\\end{equation}"
   ]
  },
  {
   "cell_type": "markdown",
   "metadata": {},
   "source": [
    "# Python implementation"
   ]
  },
  {
   "cell_type": "markdown",
   "metadata": {},
   "source": [
    "## Import the libraries\n",
    "\n",
    "The following code imports the required libraries."
   ]
  },
  {
   "cell_type": "code",
   "execution_count": 6,
   "metadata": {},
   "outputs": [
    {
     "ename": "ModuleNotFoundError",
     "evalue": "No module named 'ortools'",
     "output_type": "error",
     "traceback": [
      "\u001b[1;31m---------------------------------------------------------------------------\u001b[0m",
      "\u001b[1;31mModuleNotFoundError\u001b[0m                       Traceback (most recent call last)",
      "Cell \u001b[1;32mIn[6], line 1\u001b[0m\n\u001b[1;32m----> 1\u001b[0m \u001b[38;5;28;01mfrom\u001b[39;00m \u001b[38;5;21;01mortools\u001b[39;00m\u001b[38;5;21;01m.\u001b[39;00m\u001b[38;5;21;01malgorithms\u001b[39;00m\u001b[38;5;21;01m.\u001b[39;00m\u001b[38;5;21;01mpython\u001b[39;00m \u001b[38;5;28;01mimport\u001b[39;00m knapsack_solver\n\u001b[0;32m      2\u001b[0m \u001b[38;5;28;01mimport\u001b[39;00m \u001b[38;5;21;01mpandas\u001b[39;00m \u001b[38;5;28;01mas\u001b[39;00m \u001b[38;5;21;01mpd\u001b[39;00m\n",
      "\u001b[1;31mModuleNotFoundError\u001b[0m: No module named 'ortools'"
     ]
    }
   ],
   "source": [
    "from typing import List, Tuple\n",
    "import pandas as pd"
   ]
  },
  {
   "cell_type": "markdown",
   "metadata": {},
   "source": [
    "## Definitions"
   ]
  },
  {
   "cell_type": "markdown",
   "metadata": {},
   "source": [
    "### Color and node"
   ]
  },
  {
   "cell_type": "code",
   "execution_count": null,
   "metadata": {},
   "outputs": [],
   "source": [
    "class Color:\n",
    "\n",
    "    index: int\n",
    "    n_nodes: int\n",
    "\n",
    "    def __init__(self, index) -> None:\n",
    "        self.index = index\n",
    "        self.n_nodes = 0\n",
    "\n",
    "    def __repr__(self):\n",
    "        return f\"C{self.index}\"\n",
    "\n",
    "    def add_node(self):\n",
    "        self.n_nodes = self.n_nodes + 1\n",
    "\n",
    "class Node:\n",
    "\n",
    "    neighbors: List['Node']\n",
    "    index: int\n",
    "    color: Color\n",
    "\n",
    "    def __init__(self, index):\n",
    "        self.index = index\n",
    "        self.neighbors = []\n",
    "        self.color = None\n",
    "\n",
    "    def __repr__(self) -> str:\n",
    "        return f\"N{self.index}|{self.color}\"\n",
    "\n",
    "    def add_neighbor(self, node: 'Node'):\n",
    "        if node not in self.neighbors:\n",
    "            self.neighbors.append(node)\n",
    "\n",
    "    def set_color(self, color: Color):\n",
    "        self.color = color\n",
    "        color.add_node()\n",
    "\n",
    "    @property\n",
    "    def neighbor_colors(self):\n",
    "        return [n.color for n in self.neighbors if n.color is not None]\n",
    "\n",
    "    @property\n",
    "    def saturation(self):\n",
    "        return len(set((n.color for n in self.neighbors if n.color is not None)))\n",
    "\n",
    "    @property\n",
    "    def degree(self):\n",
    "        return len(self.neighbors)"
   ]
  },
  {
   "cell_type": "markdown",
   "metadata": {},
   "source": [
    "### DSatur"
   ]
  },
  {
   "cell_type": "code",
   "execution_count": null,
   "metadata": {},
   "outputs": [],
   "source": [
    "class DSatur:\n",
    "\n",
    "    N: List[Node]\n",
    "    C: List[Color]\n",
    "    history: List[Node]\n",
    "\n",
    "    def __init__(self, nodes: List[int], edges: List[Tuple[int, int]]):\n",
    "        \"\"\"Graph Coloring DSatur Algorithm proposed by Brélaz (1979)\n",
    "\n",
    "        Brélaz, D., 1979. New methods to color the vertices of a graph.\n",
    "        Communications of the ACM, 22(4), 251-256.\n",
    "\n",
    "        Parameters\n",
    "        ----------\n",
    "        nodes : List[int]\n",
    "            List of node indexes for which colors should be defined\n",
    "\n",
    "        edges : List[Tuple[int, int]]\n",
    "            List of edges for which nodes can't be assigned to the same color\n",
    "        \"\"\"\n",
    "        N = [Node(i) for i in nodes]\n",
    "        for e in edges:\n",
    "            i, j = e\n",
    "            N[i].add_neighbor(N[j])\n",
    "            N[j].add_neighbor(N[i])\n",
    "        self.N = N\n",
    "        self.C = []\n",
    "        self.history = []\n",
    "\n",
    "    def find_next_color(self, node: Node) -> Color:\n",
    "        \"\"\"Finds the next available color to assign to a given node\n",
    "\n",
    "        Parameters\n",
    "        ----------\n",
    "        node : Node\n",
    "            Node considered in step\n",
    "\n",
    "        Returns\n",
    "        -------\n",
    "        Color\n",
    "            Next color available\n",
    "        \"\"\"\n",
    "        next_color = None\n",
    "        for c in self.C:\n",
    "            if c not in node.neighbor_colors:\n",
    "                next_color = c\n",
    "                break\n",
    "        if next_color is None:\n",
    "            next_color = Color(len(self.C) + 1)\n",
    "            self.C.append(next_color)\n",
    "        return next_color\n",
    "\n",
    "    def solve(self, save_history=False):\n",
    "        \"\"\"Solve the instance\n",
    "\n",
    "        Parameters\n",
    "        ----------\n",
    "        save_history : bool, optional\n",
    "            Either or not to store a sequence of colores nodes in the `history` attribute,\n",
    "            by default False\n",
    "        \"\"\"\n",
    "        Q = [n for n in self.N]  # Pool of uncolored nodes\n",
    "        while len(Q) > 0:\n",
    "            Q.sort(key=lambda x: (x.saturation, x.degree), reverse=True)\n",
    "            n: Node = Q.pop(0)\n",
    "            next_color = self.find_next_color(n)\n",
    "            n.set_color(next_color)\n",
    "            if save_history:\n",
    "                self.history.append(n)\n",
    "        self.C.sort(key=lambda x: x.n_nodes, reverse=True)\n",
    "\n",
    "    @property\n",
    "    def cost(self):\n",
    "        return len(self.C)"
   ]
  },
  {
   "cell_type": "markdown",
   "metadata": {},
   "source": [
    "## Create the data\n",
    "\n",
    "The code below creates the data for the problem.  "
   ]
  },
  {
   "cell_type": "markdown",
   "metadata": {},
   "source": [
    "### Read the file"
   ]
  },
  {
   "cell_type": "code",
   "execution_count": null,
   "metadata": {},
   "outputs": [],
   "source": [
    "url = 'https://raw.githubusercontent.com/jacubero/Optimization/main/coloring/data/gc_50_3'\n",
    "df = pd.read_csv(url, sep=\" \", header=None)\n",
    "df.head()"
   ]
  },
  {
   "cell_type": "markdown",
   "metadata": {},
   "source": [
    "### Search"
   ]
  },
  {
   "cell_type": "code",
   "execution_count": null,
   "metadata": {},
   "outputs": [],
   "source": [
    "node_count = int(df.at[0,0])\n",
    "edge_count = int(df.at[0,1])\n",
    "\n",
    "print(\"Number of nodes =\", node_count)\n",
    "print(\"Number of edges =\", edge_count)\n",
    "\n",
    "edges = []\n",
    "node_set = set()\n",
    "for i in range(1, edge_count + 1):\n",
    "    edges.append((int(df.at[i,0]), int(df.at[i,1])))\n",
    "    node_set.add(int(df.at[i,0]))\n",
    "    node_set.add(int(df.at[i,1]))\n",
    "\n",
    "nodes = sorted(node_set)\n",
    "assert len(nodes) == node_count, \"Wrong number of nodes specified\"\n",
    "\n",
    "dsatur = DSatur(nodes, edges)\n",
    "dsatur.solve(save_history=True)\n",
    "\n",
    "solution = []\n",
    "for node in dsatur.N:\n",
    "    solution.append(int(str(node).split(\"|\")[1][1:])-1)\n",
    "\n",
    "solution_node_set = set(solution)\n",
    "num_colors = len(solution_node_set)\n"
   ]
  },
  {
   "cell_type": "markdown",
   "metadata": {},
   "source": [
    "## Prints the solution\n",
    "\n",
    "Prints the solution in the specified output format"
   ]
  },
  {
   "cell_type": "code",
   "execution_count": null,
   "metadata": {},
   "outputs": [],
   "source": [
    "# prepare the solution in the specified output format\n",
    "output_data = str(num_colors) + ' ' + str(0) + '\\n'\n",
    "output_data += ' '.join(map(str, solution))\n",
    "\n",
    "print(output_data)"
   ]
  },
  {
   "cell_type": "markdown",
   "metadata": {},
   "source": [
    "## Visualize the solution"
   ]
  },
  {
   "cell_type": "markdown",
   "metadata": {},
   "source": [
    "### Import libraries"
   ]
  },
  {
   "cell_type": "code",
   "execution_count": null,
   "metadata": {},
   "outputs": [],
   "source": [
    "import networkx as nx\n",
    "import matplotlib.pyplot as plt\n",
    "import numpy as np"
   ]
  },
  {
   "cell_type": "markdown",
   "metadata": {},
   "source": [
    "### Generate colors used in nodes"
   ]
  },
  {
   "cell_type": "code",
   "execution_count": null,
   "metadata": {},
   "outputs": [],
   "source": [
    "def generate_colors(num_colors):\n",
    "    cmap = plt.get_cmap('tab20')  # You can choose a different colormap\n",
    "    colors = [cmap(i) for i in np.linspace(0, 1, num_colors)]\n",
    "    return colors"
   ]
  },
  {
   "cell_type": "markdown",
   "metadata": {},
   "source": [
    "### Create graph "
   ]
  },
  {
   "cell_type": "code",
   "execution_count": null,
   "metadata": {},
   "outputs": [],
   "source": [
    "node_list = range(node_count)\n",
    "edge_list = []\n",
    "for i in range(1, edge_count + 1):\n",
    "    edge_list.append((df.at[i,0], df.at[i,1]))\n",
    "\n",
    "# Create a networkx graph from the edges\n",
    "G = nx.Graph()\n",
    "G.add_nodes_from(node_list)\n",
    "G.add_edges_from(edge_list)"
   ]
  },
  {
   "cell_type": "markdown",
   "metadata": {},
   "source": [
    "### Plot graph"
   ]
  },
  {
   "cell_type": "code",
   "execution_count": null,
   "metadata": {},
   "outputs": [],
   "source": [
    "plot_colors = generate_colors(num_colors)\n",
    "\n",
    "node_color_list = [plot_colors[color] for color in solution]\n",
    "\n",
    "# Draw the graph with node colors\n",
    "pos = nx.spring_layout(G)  # You can use different layout algorithms\n",
    "\n",
    "# Draw nodes with specified colors\n",
    "nx.draw(G, pos, with_labels=True, node_size=700, node_color=node_color_list)\n",
    "\n",
    "# Display the graph\n",
    "plt.show()"
   ]
  },
  {
   "cell_type": "markdown",
   "metadata": {},
   "source": [
    "# Shell script execution"
   ]
  },
  {
   "cell_type": "markdown",
   "metadata": {},
   "source": [
    "## Upload data"
   ]
  },
  {
   "cell_type": "code",
   "execution_count": null,
   "metadata": {},
   "outputs": [],
   "source": [
    "%%shell\n",
    "\n",
    "wget -nc -P ./data https://raw.githubusercontent.com/jacubero/Optimization/main/coloring/data/data.zip\n",
    "cd data\n",
    "unzip data.zip\n",
    "rm data.zip\n",
    "ls"
   ]
  },
  {
   "cell_type": "markdown",
   "metadata": {},
   "source": [
    "## Execute solver"
   ]
  },
  {
   "cell_type": "code",
   "execution_count": null,
   "metadata": {},
   "outputs": [],
   "source": [
    "%%shell\n",
    "\n",
    "wget -nc https://raw.githubusercontent.com/jacubero/Optimization/main/coloring/dsatur/solver.py\n",
    "\n",
    "mkdir -p dsatur\n",
    "\n",
    "for file in $(ls ./data/*)\n",
    "do\n",
    "  filename=\"$(basename \"$file\")\"\n",
    "  python3 solver.py $file > ./dsatur/$filename.dsa\n",
    "done"
   ]
  }
 ],
 "metadata": {
  "kernelspec": {
   "display_name": "Python 3",
   "language": "python",
   "name": "python3"
  },
  "language_info": {
   "codemirror_mode": {
    "name": "ipython",
    "version": 3
   },
   "file_extension": ".py",
   "mimetype": "text/x-python",
   "name": "python",
   "nbconvert_exporter": "python",
   "pygments_lexer": "ipython3",
   "version": "3.8.5"
  }
 },
 "nbformat": 4,
 "nbformat_minor": 2
}
