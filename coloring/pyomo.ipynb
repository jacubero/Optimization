{
 "cells": [
  {
   "cell_type": "markdown",
   "metadata": {},
   "source": [
    "# MIP with pyomo"
   ]
  },
  {
   "cell_type": "markdown",
   "metadata": {},
   "source": [
    "## References"
   ]
  },
  {
   "cell_type": "markdown",
   "metadata": {},
   "source": [
    "[1] https://github.com/bruscalia/optimization-demo-files/blob/1fa7a3825421d0b166195d890f2629c576cfbfda/graph-coloring/graph_coloring.ipynb"
   ]
  },
  {
   "cell_type": "markdown",
   "metadata": {},
   "source": [
    "## Model Formulation\n",
    "\n",
    "### Sets and Indices\n",
    "\n",
    "$c \\in C \\subseteq \\{ 0, \\ldots, n-1 \\}$: Indices and set of colors.\n",
    "$i,j \\in V=\\{ 0, \\ldots, n-1 \\}$: Indices and set of vertices.\n",
    "\n",
    "### Parameters\n",
    "\n",
    "$n \\in \\mathbb{N}$: number of nodes.\n",
    "\n",
    "$(i,j) \\in E \\subseteq V^2$: Set of edges.\n",
    "\n",
    "### Decision Variables\n",
    "\n",
    "$x_{i, c} \\in \\{0, 1\\} \\ \\forall \\; i \\in V, c \\in C$: If node $i$ has color $c$ then gets value $1$, otherwise value $0$.\n",
    "\n",
    "$c_{i} \\in \\{ 0, \\ldots, n-1 \\}$: Color of node $i \\in V$.\n",
    "\n",
    "### Objective Function\n",
    "\n",
    "- **Number of colors**. We want to minimize the number of colors. \n",
    "\n",
    "\\begin{equation}\n",
    "\\min \\sum_{c \\in C} y_c\n",
    "\\tag{0}\n",
    "\\end{equation}\n",
    "\n",
    "where $y_{c} \\in \\{0, 1\\} \\ \\forall \\; c \\in C$. If color $c$ is used then gets value $1$, otherwise value $0$.\n",
    "\n",
    "### Constraints\n",
    "\n",
    "- **One color for each node**. We assign one and only one color to each node:\n",
    "\n",
    "\\begin{equation}\n",
    "\\sum_{c \\in C} x_{i, c} = 1 \\quad \\forall \\; i \\in V\n",
    "\\tag{1}\n",
    "\\end{equation}\n",
    "\n",
    "- **Adjacent vertices**. No two adjacent vertices have the same color:\n",
    "\n",
    "\\begin{equation}\n",
    "x_{i, c} + x_{j, c} \\leq y_{c} \\quad \\forall \\; (i,j) \\in E, \\forall \\; c \\in C\n",
    "\\tag{2}\n",
    "\\end{equation}\n",
    "\n",
    "- **Break symmetry**. Break symmetry by setting a preference order:\n",
    "\n",
    "\\begin{equation}\n",
    "y_{C_{k-1}} \\leq y_{C_{k}} \\quad \\forall \\; k \\in \\{ 2, ..., \\lvert C \\rvert \\}\n",
    "\\tag{3}\n",
    "\\end{equation}"
   ]
  },
  {
   "cell_type": "markdown",
   "metadata": {},
   "source": [
    "# Python implementation"
   ]
  },
  {
   "cell_type": "markdown",
   "metadata": {},
   "source": [
    "## Install pyomo"
   ]
  },
  {
   "cell_type": "code",
   "execution_count": null,
   "metadata": {},
   "outputs": [],
   "source": [
    "!pip install -q pyomo"
   ]
  },
  {
   "cell_type": "markdown",
   "metadata": {},
   "source": [
    "## Import the libraries\n",
    "\n",
    "The following code imports the required libraries."
   ]
  },
  {
   "cell_type": "code",
   "execution_count": 1,
   "metadata": {},
   "outputs": [
    {
     "ename": "ModuleNotFoundError",
     "evalue": "No module named 'pyomo.environ'",
     "output_type": "error",
     "traceback": [
      "\u001b[1;31m---------------------------------------------------------------------------\u001b[0m",
      "\u001b[1;31mModuleNotFoundError\u001b[0m                       Traceback (most recent call last)",
      "Cell \u001b[1;32mIn[1], line 3\u001b[0m\n\u001b[0;32m      1\u001b[0m \u001b[38;5;28;01mfrom\u001b[39;00m \u001b[38;5;21;01mtyping\u001b[39;00m \u001b[38;5;28;01mimport\u001b[39;00m List, Tuple\n\u001b[0;32m      2\u001b[0m \u001b[38;5;28;01mfrom\u001b[39;00m \u001b[38;5;21;01mrandom\u001b[39;00m \u001b[38;5;28;01mimport\u001b[39;00m sample\n\u001b[1;32m----> 3\u001b[0m \u001b[38;5;28;01mimport\u001b[39;00m \u001b[38;5;21;01mpyomo\u001b[39;00m\u001b[38;5;21;01m.\u001b[39;00m\u001b[38;5;21;01menviron\u001b[39;00m \u001b[38;5;28;01mas\u001b[39;00m \u001b[38;5;21;01mpyo\u001b[39;00m\n\u001b[0;32m      4\u001b[0m \u001b[38;5;28;01mimport\u001b[39;00m \u001b[38;5;21;01mpandas\u001b[39;00m \u001b[38;5;28;01mas\u001b[39;00m \u001b[38;5;21;01mpd\u001b[39;00m\n",
      "\u001b[1;31mModuleNotFoundError\u001b[0m: No module named 'pyomo.environ'"
     ]
    }
   ],
   "source": [
    "from typing import List, Tuple\n",
    "from random import sample\n",
    "import pyomo.environ as pyo\n",
    "import pandas as pd"
   ]
  },
  {
   "cell_type": "markdown",
   "metadata": {},
   "source": [
    "## Definitions"
   ]
  },
  {
   "cell_type": "markdown",
   "metadata": {},
   "source": [
    "### Restrictions"
   ]
  },
  {
   "cell_type": "code",
   "execution_count": null,
   "metadata": {},
   "outputs": [],
   "source": [
    "# Fill every node with some color\n",
    "def fill_cstr(model, i):\n",
    "    return sum(model.x[i, :]) == 1\n",
    "\n",
    "# Do not repeat colors on edges and color is used\n",
    "def edge_cstr(model, i, j, c):\n",
    "    return model.x[i, c] + model.x[j, c] <= model.y[c]\n",
    "\n",
    "# Break symmetry by setting a preference order\n",
    "def break_symmetry(model, c):\n",
    "    if model.C.first() == c:\n",
    "        return 0 <= model.y[c]\n",
    "    else:\n",
    "        c_prev = model.C.prev(c)\n",
    "        return model.y[c] <= model.y[c_prev]"
   ]
  },
  {
   "cell_type": "markdown",
   "metadata": {},
   "source": [
    "### Objective function"
   ]
  },
  {
   "cell_type": "code",
   "execution_count": null,
   "metadata": {},
   "outputs": [],
   "source": [
    "# Total number of colors used\n",
    "def obj(model):\n",
    "    return sum(model.y[:])"
   ]
  },
  {
   "cell_type": "markdown",
   "metadata": {},
   "source": [
    "## Color dealing"
   ]
  },
  {
   "cell_type": "markdown",
   "metadata": {},
   "source": [
    "### Model instantiation"
   ]
  },
  {
   "cell_type": "code",
   "execution_count": null,
   "metadata": {},
   "outputs": [],
   "source": [
    "def build_ilp(\n",
    "    nodes: List[int],\n",
    "    colors: List[int],\n",
    "    edges: List[Tuple[int, int]]\n",
    ") -> pyo.ConcreteModel:\n",
    "    \"\"\"Instantiates pyomo Integer Linear Programming model for the Graph Coloring Problem\n",
    "\n",
    "    Parameters\n",
    "    ----------\n",
    "    nodes : List[int]\n",
    "        Node indexes\n",
    "\n",
    "    colors : List[int]\n",
    "        List of available colors\n",
    "\n",
    "    edges : List[Tuple[int, int]]\n",
    "        Connected edges\n",
    "\n",
    "    Returns\n",
    "    -------\n",
    "    pyo.ConcreteModel\n",
    "        `Concretemodel` of pyomo\n",
    "    \"\"\"\n",
    "\n",
    "    # Create instance\n",
    "    model = pyo.ConcreteModel()\n",
    "\n",
    "    # Create sets\n",
    "    model.C = pyo.Set(initialize=colors)  # Colors\n",
    "    model.N = pyo.Set(initialize=nodes)  # Nodes\n",
    "    model.E = pyo.Set(initialize=edges)  # Edges\n",
    "\n",
    "    # Create variables\n",
    "    model.x = pyo.Var(model.N, model.C, within=pyo.Binary)\n",
    "    model.y = pyo.Var(model.C, within=pyo.Binary)\n",
    "\n",
    "    # Create constraints\n",
    "    model.fill_cstr = pyo.Constraint(model.N, rule=fill_cstr)\n",
    "    model.edge_cstr = pyo.Constraint(model.E, model.C, rule=edge_cstr)\n",
    "    model.break_symmetry = pyo.Constraint(model.C, rule=break_symmetry)\n",
    "\n",
    "    # Create objective\n",
    "    model.obj = pyo.Objective(rule=obj)\n",
    "\n",
    "    return model"
   ]
  },
  {
   "cell_type": "markdown",
   "metadata": {},
   "source": [
    "### Model definition from data"
   ]
  },
  {
   "cell_type": "code",
   "execution_count": null,
   "metadata": {},
   "outputs": [],
   "source": [
    "def warmstart_from_data(model, nodes, colors):\n",
    "\n",
    "    color_set=set(colors)\n",
    "\n",
    "    for n in nodes:\n",
    "        for c in color_set:\n",
    "            if c is colors[n]:\n",
    "                model.x[n, c].value = 1.0\n",
    "            else:\n",
    "                model.x[n, c].value = 0.0\n",
    "\n",
    "    for c in color_set:\n",
    "        model.y[c].value = 1.0\n",
    "\n",
    "def ilp_from_data(nodes, colors, edges) -> pyo.ConcreteModel:\n",
    "    \"\"\"Instantiates pyomo Integer Linear Programming model for the Graph Coloring Problem\n",
    "\n",
    "    Parameters\n",
    "    ----------\n",
    "    nodes : List of nodes\n",
    "    colors : List of colors\n",
    "    edges : List of edges\n",
    "\n",
    "    Returns\n",
    "    -------\n",
    "    pyo.ConcreteModel\n",
    "        `Concretemodel` of pyomo\n",
    "    \"\"\"\n",
    "    model = build_ilp(nodes, colors, edges)\n",
    "    warmstart_from_data(model, nodes, colors)\n",
    "    return model"
   ]
  },
  {
   "cell_type": "markdown",
   "metadata": {},
   "source": [
    "### Initialize colors"
   ]
  },
  {
   "cell_type": "code",
   "execution_count": null,
   "metadata": {},
   "outputs": [],
   "source": [
    "# Initialize color choice for every node\n",
    "def initialize_color(total_color_count):\n",
    "\n",
    "    new_color_list = sample(range(total_color_count), total_color_count)\n",
    "    return new_color_list"
   ]
  },
  {
   "cell_type": "markdown",
   "metadata": {},
   "source": [
    "## Create the data\n",
    "\n",
    "The code below creates the data for the problem.  "
   ]
  },
  {
   "cell_type": "markdown",
   "metadata": {},
   "source": [
    "### Read the data file"
   ]
  },
  {
   "cell_type": "code",
   "execution_count": null,
   "metadata": {},
   "outputs": [],
   "source": [
    "url = 'https://raw.githubusercontent.com/jacubero/Optimization/main/coloring/data/gc_50_3'\n",
    "df_data = pd.read_csv(url, sep=\" \", header=None)\n",
    "df_data.head()"
   ]
  },
  {
   "cell_type": "code",
   "execution_count": null,
   "metadata": {},
   "outputs": [],
   "source": [
    "node_count = int(df_data.at[0,0])\n",
    "edge_count = int(df_data.at[0,1])\n",
    "\n",
    "print(\"Number of nodes =\", node_count)\n",
    "print(\"Number of edges =\", edge_count)\n",
    "\n",
    "edges_list = []\n",
    "node_set = set()\n",
    "for i in range(1, edge_count + 1):\n",
    "    vs = int(df_data.at[i,0])\n",
    "    ve = int(df_data.at[i,1])\n",
    "    edges_list.append((vs, ve))\n",
    "    node_set.add(vs)\n",
    "    node_set.add(ve)\n",
    "\n",
    "nodes_list = sorted(node_set)\n",
    "assert len(nodes_list) == node_count, \"Wrong number of nodes specified\"\n"
   ]
  },
  {
   "cell_type": "markdown",
   "metadata": {},
   "source": [
    "### Read the colors file"
   ]
  },
  {
   "cell_type": "code",
   "execution_count": null,
   "metadata": {},
   "outputs": [],
   "source": [
    "url = 'https://raw.githubusercontent.com/jacubero/Optimization/main/coloring/dsatur/gc_50_3.dsa'\n",
    "df_colors = pd.read_csv(url, sep=\" \", header=None)\n",
    "df_colors.head()"
   ]
  },
  {
   "cell_type": "code",
   "execution_count": null,
   "metadata": {},
   "outputs": [],
   "source": [
    "init_color_count = int(df_colors.at[0,0])\n",
    "colors_list = list(map(int, df_colors[1]))\n"
   ]
  },
  {
   "cell_type": "markdown",
   "metadata": {},
   "source": [
    "## Solve"
   ]
  },
  {
   "cell_type": "code",
   "execution_count": null,
   "metadata": {},
   "outputs": [],
   "source": [
    "ilp = ilp_from_data(nodes_list, colors_list, edges_list)\n",
    "opt = pyo.SolverFactory(\"appsi_highs\")\n",
    "res = opt.solve(ilp)\n",
    "print(res)\n"
   ]
  },
  {
   "cell_type": "code",
   "execution_count": null,
   "metadata": {},
   "outputs": [],
   "source": [
    "colors = []\n",
    "nodes = []\n",
    "for n in ilp.N:\n",
    "    nodes.append(n)\n",
    "    for c in ilp.C:\n",
    "        if round(ilp.x[n, c].value, ndigits=0) == 1:\n",
    "            colors.append(c)\n",
    "\n",
    "solution = []\n",
    "for col in colors:\n",
    "    solution.append(col)\n",
    "\n",
    "solution_node_set = set(solution)\n",
    "num_colors = len(solution_node_set)\n"
   ]
  },
  {
   "cell_type": "markdown",
   "metadata": {},
   "source": [
    "## Prints the solution\n",
    "\n",
    "Prints the solution in the specified output format"
   ]
  },
  {
   "cell_type": "code",
   "execution_count": null,
   "metadata": {},
   "outputs": [],
   "source": [
    "# prepare the solution in the specified output format\n",
    "output_data = str(num_colors) + ' ' + str(0) + '\\n'\n",
    "output_data += ' '.join(map(str, solution))\n",
    "\n",
    "print(output_data)"
   ]
  },
  {
   "cell_type": "markdown",
   "metadata": {},
   "source": [
    "## Visualize the solution"
   ]
  },
  {
   "cell_type": "markdown",
   "metadata": {},
   "source": [
    "### Import libraries"
   ]
  },
  {
   "cell_type": "code",
   "execution_count": null,
   "metadata": {},
   "outputs": [],
   "source": [
    "import networkx as nx\n",
    "import matplotlib.pyplot as plt\n",
    "import numpy as np"
   ]
  },
  {
   "cell_type": "markdown",
   "metadata": {},
   "source": [
    "### Generate colors used in nodes"
   ]
  },
  {
   "cell_type": "code",
   "execution_count": null,
   "metadata": {},
   "outputs": [],
   "source": [
    "def generate_colors(num_colors):\n",
    "    cmap = plt.get_cmap('tab20')  # You can choose a different colormap\n",
    "    colors = [cmap(i) for i in np.linspace(0, 1, num_colors)]\n",
    "    return colors"
   ]
  },
  {
   "cell_type": "markdown",
   "metadata": {},
   "source": [
    "### Create graph "
   ]
  },
  {
   "cell_type": "code",
   "execution_count": null,
   "metadata": {},
   "outputs": [],
   "source": [
    "node_list = range(node_count)\n",
    "edge_list = []\n",
    "for i in range(1, edge_count + 1):\n",
    "    edge_list.append((df.at[i,0], df.at[i,1]))\n",
    "\n",
    "# Create a networkx graph from the edges\n",
    "G = nx.Graph()\n",
    "G.add_nodes_from(node_list)\n",
    "G.add_edges_from(edge_list)"
   ]
  },
  {
   "cell_type": "markdown",
   "metadata": {},
   "source": [
    "### Plot graph"
   ]
  },
  {
   "cell_type": "code",
   "execution_count": null,
   "metadata": {},
   "outputs": [],
   "source": [
    "plot_colors = generate_colors(num_colors)\n",
    "\n",
    "node_color_list = [plot_colors[color] for color in solution]\n",
    "\n",
    "# Draw the graph with node colors\n",
    "pos = nx.spring_layout(G)  # You can use different layout algorithms\n",
    "\n",
    "# Draw nodes with specified colors\n",
    "nx.draw(G, pos, with_labels=True, node_size=700, node_color=node_color_list)\n",
    "\n",
    "# Display the graph\n",
    "plt.show()"
   ]
  },
  {
   "cell_type": "markdown",
   "metadata": {},
   "source": [
    "# Shell script execution"
   ]
  },
  {
   "cell_type": "markdown",
   "metadata": {},
   "source": [
    "## Upload data"
   ]
  },
  {
   "cell_type": "code",
   "execution_count": null,
   "metadata": {},
   "outputs": [],
   "source": [
    "%%shell\n",
    "\n",
    "wget -nc -P ./data https://raw.githubusercontent.com/jacubero/Optimization/main/coloring/data/data.zip\n",
    "cd data\n",
    "unzip data.zip\n",
    "rm data.zip\n",
    "ls"
   ]
  },
  {
   "cell_type": "code",
   "execution_count": null,
   "metadata": {},
   "outputs": [],
   "source": [
    "%%shell\n",
    "\n",
    "wget -nc -P ./dsatur https://raw.githubusercontent.com/jacubero/Optimization/main/coloring/dsatur/dsatur.zip\n",
    "cd dsatur\n",
    "unzip dsatur.zip\n",
    "rm dsatur.zip\n",
    "ls\n",
    "cd .."
   ]
  },
  {
   "cell_type": "markdown",
   "metadata": {},
   "source": [
    "## Execute solver"
   ]
  },
  {
   "cell_type": "code",
   "execution_count": null,
   "metadata": {},
   "outputs": [],
   "source": [
    "%%shell\n",
    "\n",
    "wget -nc https://raw.githubusercontent.com/jacubero/Optimization/main/coloring/pyomo/solver.py\n",
    "\n",
    "mkdir -p pyomo\n",
    "\n",
    "for file in $(ls ./data/*)\n",
    "do\n",
    "  filename=\"$(basename \"$file\")\"\n",
    "  python3 solver.py $file ./dsatur/$filename.dsa > ./tabu/$filename.pym\n",
    "done"
   ]
  }
 ],
 "metadata": {
  "kernelspec": {
   "display_name": "Python 3",
   "language": "python",
   "name": "python3"
  },
  "language_info": {
   "codemirror_mode": {
    "name": "ipython",
    "version": 3
   },
   "file_extension": ".py",
   "mimetype": "text/x-python",
   "name": "python",
   "nbconvert_exporter": "python",
   "pygments_lexer": "ipython3",
   "version": "3.8.5"
  }
 },
 "nbformat": 4,
 "nbformat_minor": 2
}
