{
 "cells": [
  {
   "cell_type": "markdown",
   "metadata": {},
   "source": [
    "# Knapsack"
   ]
  },
  {
   "cell_type": "markdown",
   "metadata": {},
   "source": [
    "## Model Formulation\n",
    "\n",
    "### Sets and Indices\n",
    "\n",
    "$i \\in I$: Index and set of items.\n",
    "\n",
    "### Parameters\n",
    "\n",
    "$v_{i} \\in \\mathbb{R}^+$: Value of item $i \\in I$.\n",
    "\n",
    "$w_{i} \\in \\mathbb{R}^+$: Weight of item $i \\in I$.\n",
    "\n",
    "$K \\in \\mathbb{R}^+$: Capacity of the knapsack\n",
    "\n",
    "### Decision Variables\n",
    "\n",
    "$x_{i} \\in \\{0, 1 \\}$: This variable is equal to 1 if we take item $i \\in I$; and 0 otherwise.\n",
    "\n",
    "### Objective Function\n",
    "\n",
    "- **Total value**. We want to maximize the total value of the items selected to go into the knapsack. This is the sum of the values of the selected items.\n",
    "\n",
    "\\begin{equation}\n",
    "\\max Z= \\displaystyle \\sum_{i=0}^{n-1} v_ix_i\n",
    "\\tag{0}\n",
    "\\end{equation}\n",
    "\n",
    "### Constraints\n",
    "\n",
    "- **Capacity**. The total weight of the selected items $i \\in I$ must not exceed the capacity $K$ of the knapsack:\n",
    "\n",
    "\\begin{equation}\n",
    "\\displaystyle \\sum_{i=0}^{n-1} w_ix_i \\leq K \\text{ where } x_i \\in \\{0,1\\} \\ \\forall i \\in \\{ 0, \\ldots, n-1 \\}\n",
    "\\tag{1}\n",
    "\\end{equation}"
   ]
  },
  {
   "cell_type": "markdown",
   "metadata": {},
   "source": [
    "# Python implementation"
   ]
  },
  {
   "cell_type": "markdown",
   "metadata": {},
   "source": [
    "## Install OR Tools"
   ]
  },
  {
   "cell_type": "code",
   "execution_count": 5,
   "metadata": {},
   "outputs": [
    {
     "name": "stdout",
     "output_type": "stream",
     "text": [
      "Note: you may need to restart the kernel to use updated packages.\n"
     ]
    },
    {
     "name": "stderr",
     "output_type": "stream",
     "text": [
      "ERROR: Could not find a version that satisfies the requirement ortools (from versions: none)\n",
      "ERROR: No matching distribution found for ortools\n"
     ]
    }
   ],
   "source": [
    "%pip install ortools"
   ]
  },
  {
   "cell_type": "markdown",
   "metadata": {},
   "source": [
    "## Import the libraries\n",
    "\n",
    "The following code imports the required libraries."
   ]
  },
  {
   "cell_type": "code",
   "execution_count": 6,
   "metadata": {},
   "outputs": [
    {
     "ename": "ModuleNotFoundError",
     "evalue": "No module named 'ortools'",
     "output_type": "error",
     "traceback": [
      "\u001b[1;31m---------------------------------------------------------------------------\u001b[0m",
      "\u001b[1;31mModuleNotFoundError\u001b[0m                       Traceback (most recent call last)",
      "Cell \u001b[1;32mIn[6], line 1\u001b[0m\n\u001b[1;32m----> 1\u001b[0m \u001b[38;5;28;01mfrom\u001b[39;00m \u001b[38;5;21;01mortools\u001b[39;00m\u001b[38;5;21;01m.\u001b[39;00m\u001b[38;5;21;01malgorithms\u001b[39;00m\u001b[38;5;21;01m.\u001b[39;00m\u001b[38;5;21;01mpython\u001b[39;00m \u001b[38;5;28;01mimport\u001b[39;00m knapsack_solver\n\u001b[0;32m      2\u001b[0m \u001b[38;5;28;01mimport\u001b[39;00m \u001b[38;5;21;01mpandas\u001b[39;00m \u001b[38;5;28;01mas\u001b[39;00m \u001b[38;5;21;01mpd\u001b[39;00m\n",
      "\u001b[1;31mModuleNotFoundError\u001b[0m: No module named 'ortools'"
     ]
    }
   ],
   "source": [
    "from ortools.algorithms.python import knapsack_solver\n",
    "import pandas as pd"
   ]
  },
  {
   "cell_type": "markdown",
   "metadata": {},
   "source": [
    "## Create the data\n",
    "\n",
    "The code below creates the data for the problem.  "
   ]
  },
  {
   "cell_type": "markdown",
   "metadata": {},
   "source": [
    "### Read the file"
   ]
  },
  {
   "cell_type": "code",
   "execution_count": null,
   "metadata": {},
   "outputs": [],
   "source": [
    "url = 'https://raw.githubusercontent.com/jacubero/Optimization/main/knapsack/data/ks_30_0'\n",
    "df = pd.read_csv(url, sep=\" \", header=None)\n",
    "df.head()"
   ]
  },
  {
   "cell_type": "markdown",
   "metadata": {},
   "source": [
    "The data includes the following:\n",
    "\n",
    "**weights**: A vector containing the weights of the items.\n",
    "**values**: A vector containing the values of the items.\n",
    "**capacities**: A vector with just one entry, the capacity of the knapsack."
   ]
  },
  {
   "cell_type": "code",
   "execution_count": null,
   "metadata": {},
   "outputs": [],
   "source": [
    "item_count = int(df.at[0,0])\n",
    "capacity = int(df.at[0,1])\n",
    "print(\"Number of items =\", item_count)\n",
    "print(\"Capacity of the knapsack =\", capacity)\n",
    "\n",
    "values = []\n",
    "weights = [[]]\n",
    "\n",
    "for i in range(1, item_count+1):\n",
    "    values.append(int(df.at[i,0]))\n",
    "    weights[0].append(int(df.at[i,1]))\n",
    "\n",
    "print(\"Values:\", values)\n",
    "print(\"Weights:\", weights)"
   ]
  }
 ],
 "metadata": {
  "kernelspec": {
   "display_name": "Python 3",
   "language": "python",
   "name": "python3"
  },
  "language_info": {
   "codemirror_mode": {
    "name": "ipython",
    "version": 3
   },
   "file_extension": ".py",
   "mimetype": "text/x-python",
   "name": "python",
   "nbconvert_exporter": "python",
   "pygments_lexer": "ipython3",
   "version": "3.8.5"
  }
 },
 "nbformat": 4,
 "nbformat_minor": 2
}
