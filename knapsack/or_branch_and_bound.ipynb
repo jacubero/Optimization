{
 "cells": [
  {
   "cell_type": "markdown",
   "metadata": {},
   "source": [
    "# Knapsack"
   ]
  },
  {
   "cell_type": "markdown",
   "metadata": {},
   "source": [
    "## Model Formulation\n",
    "\n",
    "### Sets and Indices\n",
    "\n",
    "$i \\in I$: Index and set of items.\n",
    "\n",
    "### Parameters\n",
    "\n",
    "$v_{i} \\in \\mathbb{R}^+$: Value of item $i \\in I$.\n",
    "\n",
    "$w_{i} \\in \\mathbb{R}^+$: Weight of item $i \\in I$.\n",
    "\n",
    "$K \\in \\mathbb{R}^+$: Capacity of the knapsack\n",
    "\n",
    "### Decision Variables\n",
    "\n",
    "$x_{i} \\in \\{0, 1 \\}$: This variable is equal to 1 if we take item $i \\in I$; and 0 otherwise.\n",
    "\n",
    "### Objective Function\n",
    "\n",
    "- **Total value**. We want to maximize the total value of the items selected to go into the knapsack. This is the sum of the values of the selected items.\n",
    "\n",
    "\\begin{equation}\n",
    "\\max Z= \\displaystyle \\sum_{i=0}^{n-1} v_ix_i\n",
    "\\tag{0}\n",
    "\\end{equation}\n",
    "\n",
    "### Constraints\n",
    "\n",
    "- **Capacity**. The total weight of the selected items $i \\in I$ must not exceed the capacity $K$ of the knapsack:\n",
    "\n",
    "\\begin{equation}\n",
    "\\displaystyle \\sum_{i=0}^{n-1} w_ix_i \\leq K \\text{ where } x_i \\in \\{0,1\\} \\ \\forall i \\in \\{ 0, \\ldots, n-1 \\}\n",
    "\\tag{1}\n",
    "\\end{equation}"
   ]
  },
  {
   "cell_type": "markdown",
   "metadata": {},
   "source": [
    "# Python implementation"
   ]
  },
  {
   "cell_type": "markdown",
   "metadata": {},
   "source": [
    "## Install OR Tools"
   ]
  },
  {
   "cell_type": "code",
   "execution_count": null,
   "metadata": {},
   "outputs": [],
   "source": [
    "%%pip install ortools"
   ]
  },
  {
   "cell_type": "markdown",
   "metadata": {},
   "source": [
    "## Import the libraries\n",
    "\n",
    "The following code imports the required libraries."
   ]
  },
  {
   "cell_type": "code",
   "execution_count": 1,
   "metadata": {},
   "outputs": [],
   "source": [
    "from ortools.algorithms.python import knapsack_solver\n",
    "import pandas as pd"
   ]
  },
  {
   "cell_type": "markdown",
   "metadata": {},
   "source": [
    "## Create the data\n",
    "\n",
    "The code below creates the data for the problem.  "
   ]
  },
  {
   "cell_type": "markdown",
   "metadata": {},
   "source": [
    "### Read the file"
   ]
  },
  {
   "cell_type": "code",
   "execution_count": null,
   "metadata": {},
   "outputs": [],
   "source": [
    "url = 'https://raw.githubusercontent.com/jacubero/Optimization/main/knapsack/data/ks_30_0'\n",
    "df = pd.read_csv(url, sep=\" \", header=None)\n",
    "df.head()"
   ]
  }
 ],
 "metadata": {
  "kernelspec": {
   "display_name": "Python 3",
   "language": "python",
   "name": "python3"
  },
  "language_info": {
   "codemirror_mode": {
    "name": "ipython",
    "version": 3
   },
   "file_extension": ".py",
   "mimetype": "text/x-python",
   "name": "python",
   "nbconvert_exporter": "python",
   "pygments_lexer": "ipython3",
   "version": "3.7.1"
  }
 },
 "nbformat": 4,
 "nbformat_minor": 2
}
