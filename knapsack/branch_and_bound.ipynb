{
 "cells": [
  {
   "cell_type": "markdown",
   "metadata": {},
   "source": [
    "# Knapsack"
   ]
  },
  {
   "cell_type": "markdown",
   "metadata": {},
   "source": [
    "## Model Formulation\n",
    "\n",
    "### Sets and Indices\n",
    "\n",
    "$i \\in I$: Index and set of items.\n",
    "\n",
    "### Parameters\n",
    "\n",
    "$v_{i} \\in \\mathbb{R}^+$: Value of item $i \\in I$.\n",
    "\n",
    "$w_{i} \\in \\mathbb{R}^+$: Weight of item $i \\in I$.\n",
    "\n",
    "$K \\in \\mathbb{R}^+$: Capacity of the knapsack\n",
    "\n",
    "### Decision Variables\n",
    "\n",
    "$x_{i} \\in \\{0, 1 \\}$: This variable is equal to 1 if we take item $i \\in I$; and 0 otherwise.\n",
    "\n",
    "### Objective Function\n",
    "\n",
    "- **Total value**. We want to maximize the total value of the items selected to go into the knapsack. This is the sum of the values of the selected items.\n",
    "\n",
    "\\begin{equation}\n",
    "\\max Z= \\displaystyle \\sum_{i=0}^{n-1} v_ix_i\n",
    "\\tag{0}\n",
    "\\end{equation}\n",
    "\n",
    "### Constraints\n",
    "\n",
    "- **Capacity**. The total weight of the selected items $i \\in I$ must not exceed the capacity $K$ of the knapsack:\n",
    "\n",
    "\\begin{equation}\n",
    "\\displaystyle \\sum_{i=0}^{n-1} w_ix_i \\leq K \\text{ where } x_i \\in \\{0,1\\} \\ \\forall i \\in \\{ 0, \\ldots, n-1 \\}\n",
    "\\tag{1}\n",
    "\\end{equation}"
   ]
  },
  {
   "cell_type": "markdown",
   "metadata": {},
   "source": [
    "# Python implementation"
   ]
  },
  {
   "cell_type": "markdown",
   "metadata": {},
   "source": [
    "## Import the libraries\n",
    "\n",
    "The following code imports the required libraries."
   ]
  },
  {
   "cell_type": "code",
   "execution_count": 6,
   "metadata": {},
   "outputs": [
    {
     "ename": "ModuleNotFoundError",
     "evalue": "No module named 'ortools'",
     "output_type": "error",
     "traceback": [
      "\u001b[1;31m---------------------------------------------------------------------------\u001b[0m",
      "\u001b[1;31mModuleNotFoundError\u001b[0m                       Traceback (most recent call last)",
      "Cell \u001b[1;32mIn[6], line 1\u001b[0m\n\u001b[1;32m----> 1\u001b[0m \u001b[38;5;28;01mfrom\u001b[39;00m \u001b[38;5;21;01mortools\u001b[39;00m\u001b[38;5;21;01m.\u001b[39;00m\u001b[38;5;21;01malgorithms\u001b[39;00m\u001b[38;5;21;01m.\u001b[39;00m\u001b[38;5;21;01mpython\u001b[39;00m \u001b[38;5;28;01mimport\u001b[39;00m knapsack_solver\n\u001b[0;32m      2\u001b[0m \u001b[38;5;28;01mimport\u001b[39;00m \u001b[38;5;21;01mpandas\u001b[39;00m \u001b[38;5;28;01mas\u001b[39;00m \u001b[38;5;21;01mpd\u001b[39;00m\n",
      "\u001b[1;31mModuleNotFoundError\u001b[0m: No module named 'ortools'"
     ]
    }
   ],
   "source": [
    "from collections import namedtuple\n",
    "import pandas as pd"
   ]
  },
  {
   "cell_type": "markdown",
   "metadata": {},
   "source": [
    "## Tuple definition"
   ]
  },
  {
   "cell_type": "code",
   "execution_count": null,
   "metadata": {},
   "outputs": [],
   "source": [
    "Item = namedtuple(\"Item\", ['index', 'value', 'weight'])"
   ]
  },
  {
   "cell_type": "markdown",
   "metadata": {},
   "source": [
    "## Create the data\n",
    "\n",
    "The code below creates the data for the problem.  "
   ]
  },
  {
   "cell_type": "markdown",
   "metadata": {},
   "source": [
    "### Read the file"
   ]
  },
  {
   "cell_type": "code",
   "execution_count": null,
   "metadata": {},
   "outputs": [],
   "source": [
    "url = 'https://raw.githubusercontent.com/jacubero/Optimization/main/knapsack/data/ks_30_0'\n",
    "df = pd.read_csv(url, sep=\" \", header=None)\n",
    "df.head()"
   ]
  },
  {
   "cell_type": "markdown",
   "metadata": {},
   "source": [
    "### Read the data\n",
    "\n",
    "The data includes the following:\n",
    "\n",
    "**weights**: A vector containing the weights of the items.\n",
    "\n",
    "**values**: A vector containing the values of the items.\n",
    "\n",
    "**capacities**: A vector with just one entry, the capacity of the knapsack."
   ]
  },
  {
   "cell_type": "code",
   "execution_count": null,
   "metadata": {},
   "outputs": [],
   "source": [
    "item_count = int(df.at[0,0])\n",
    "capacity = int(df.at[0,1])\n",
    "capacities = []\n",
    "capacities.append(capacity)\n",
    "\n",
    "print(\"Number of items =\", item_count)\n",
    "print(\"Capacity of the knapsack =\", capacity)\n",
    "\n",
    "values = []\n",
    "weights = [[]]\n",
    "\n",
    "for i in range(1, item_count+1):\n",
    "    values.append(int(df.at[i,0]))\n",
    "    weights[0].append(int(df.at[i,1]))\n",
    "\n",
    "print(\"Values:\", values)\n",
    "print(\"Weights:\", weights)"
   ]
  },
  {
   "cell_type": "markdown",
   "metadata": {},
   "source": [
    "## Declare the solver\n",
    "\n",
    "The following code declares the knapsack solver, a specialized solver for knapsack problems."
   ]
  },
  {
   "cell_type": "code",
   "execution_count": null,
   "metadata": {},
   "outputs": [],
   "source": [
    "solver = knapsack_solver.KnapsackSolver(\n",
    "        knapsack_solver.SolverType.KNAPSACK_MULTIDIMENSION_BRANCH_AND_BOUND_SOLVER,\n",
    "        \"KnapsackExample\",\n",
    "    )"
   ]
  },
  {
   "cell_type": "markdown",
   "metadata": {},
   "source": [
    "The option KNAPSACK_MULTIDIMENSION_BRANCH_AND_BOUND_SOLVER tells the solver to use the branch and bound algorithm to solve the problem.\n",
    "\n",
    "The knapsack solver works over the integers, so the data in the program can only contain integers. If your problem contains non-integer values, you can first convert them to integers by multiplying the data by a sufficiently large integer."
   ]
  },
  {
   "cell_type": "markdown",
   "metadata": {},
   "source": [
    "## Call the solver\n",
    "\n",
    "The following code calls the solver."
   ]
  },
  {
   "cell_type": "code",
   "execution_count": null,
   "metadata": {},
   "outputs": [],
   "source": [
    "solver.init(values, weights, capacities)\n",
    "computed_value = solver.solve()\n",
    "print(\"Total value =\", computed_value)"
   ]
  },
  {
   "cell_type": "markdown",
   "metadata": {},
   "source": [
    "The program first initializes the solver, and then calls it by computed_value = solver.Solve(). The total value of the optimal solution is computed_value."
   ]
  },
  {
   "cell_type": "code",
   "execution_count": null,
   "metadata": {},
   "outputs": [],
   "source": [
    "taken = [0]*item_count\n",
    "packed_items = []\n",
    "packed_values = []\n",
    "packed_weights = []\n",
    "total_value = 0\n",
    "total_weight = 0\n",
    "\n",
    "for i in range(item_count):\n",
    "    if solver.best_solution_contains(i):\n",
    "        taken[i] = 1\n",
    "        packed_items.append(i)\n",
    "        packed_values.append(values[i])\n",
    "        packed_weights.append(weights[0][i])\n",
    "        total_value += values[i]\n",
    "        total_weight += weights[0][i]\n",
    "\n",
    "remaining_capacity = capacity-total_weight\n",
    "print(\"Total value:\", total_value)\n",
    "print(\"Total weight:\", total_weight)\n",
    "print(\"Packed items:\", packed_items)\n",
    "print(\"Packed values:\", packed_values)\n",
    "print(\"Packed weights:\", packed_weights)\n",
    "print(\"Remaining capacity=\", remaining_capacity)"
   ]
  },
  {
   "cell_type": "markdown",
   "metadata": {},
   "source": [
    "## Prints the solution\n",
    "\n",
    "Prints the solution in the specified output format"
   ]
  },
  {
   "cell_type": "code",
   "execution_count": null,
   "metadata": {},
   "outputs": [],
   "source": [
    "output_data = str(computed_value) + ' ' + str(1) + '\\n'\n",
    "output_data += ' '.join(map(str, taken))\n",
    "\n",
    "print(output_data)"
   ]
  },
  {
   "cell_type": "markdown",
   "metadata": {},
   "source": [
    "## Visualize the solution"
   ]
  },
  {
   "cell_type": "code",
   "execution_count": null,
   "metadata": {},
   "outputs": [],
   "source": [
    "import altair as alt\n",
    "\n",
    "# dictionary of lists \n",
    "dict = {'item': packed_items, 'value': packed_values, 'weight': packed_weights} \n",
    "    \n",
    "df_items = pd.DataFrame(dict)\n",
    "\n",
    "bars = alt.Chart(df_items).mark_bar().encode(\n",
    "    y='sum(value)',\n",
    "    color='item:N'\n",
    ").properties(\n",
    "    width=100\n",
    ")\n",
    "\n",
    "pie = alt.Chart(df_items).mark_arc().encode(\n",
    "    theta=\"weight\",\n",
    "    color=\"item:N\"\n",
    ").properties(\n",
    "    width=300\n",
    ")\n",
    "\n",
    "alt.hconcat(\n",
    "    pie ,bars).configure_axis(\n",
    "    grid=False,\n",
    ").configure_view(\n",
    "    strokeWidth=0\n",
    ")"
   ]
  },
  {
   "cell_type": "markdown",
   "metadata": {},
   "source": [
    "# Shell script execution"
   ]
  },
  {
   "cell_type": "markdown",
   "metadata": {},
   "source": [
    "## Upload data"
   ]
  },
  {
   "cell_type": "code",
   "execution_count": null,
   "metadata": {},
   "outputs": [],
   "source": [
    "%%shell\n",
    "\n",
    "wget -nc -P ./data https://raw.githubusercontent.com/jacubero/Optimization/main/knapsack/data/data.zip\n",
    "cd data\n",
    "unzip data.zip\n",
    "rm data.zip\n",
    "ls"
   ]
  },
  {
   "cell_type": "markdown",
   "metadata": {},
   "source": [
    "## Execute solver"
   ]
  },
  {
   "cell_type": "code",
   "execution_count": null,
   "metadata": {},
   "outputs": [],
   "source": [
    "%%shell\n",
    "\n",
    "wget -nc https://raw.githubusercontent.com/jacubero/Optimization/main/knapsack/or_branch_and_bound/solver.py\n",
    "\n",
    "mkdir -p or_branch_and_bound\n",
    "\n",
    "for file in $(ls ./data/*)\n",
    "do\n",
    "  filename=\"$(basename \"$file\")\"\n",
    "  python3 solver.py $file > ./or_branch_and_bound/$filename.orb\n",
    "done"
   ]
  }
 ],
 "metadata": {
  "kernelspec": {
   "display_name": "Python 3",
   "language": "python",
   "name": "python3"
  },
  "language_info": {
   "codemirror_mode": {
    "name": "ipython",
    "version": 3
   },
   "file_extension": ".py",
   "mimetype": "text/x-python",
   "name": "python",
   "nbconvert_exporter": "python",
   "pygments_lexer": "ipython3",
   "version": "3.8.5"
  }
 },
 "nbformat": 4,
 "nbformat_minor": 2
}
