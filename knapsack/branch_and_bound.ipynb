{
 "cells": [
  {
   "cell_type": "markdown",
   "metadata": {},
   "source": [
    "# Knapsack"
   ]
  },
  {
   "cell_type": "markdown",
   "metadata": {},
   "source": [
    "## Model Formulation\n",
    "\n",
    "### Sets and Indices\n",
    "\n",
    "$i \\in I$: Index and set of items.\n",
    "\n",
    "### Parameters\n",
    "\n",
    "$v_{i} \\in \\mathbb{R}^+$: Value of item $i \\in I$.\n",
    "\n",
    "$w_{i} \\in \\mathbb{R}^+$: Weight of item $i \\in I$.\n",
    "\n",
    "$K \\in \\mathbb{R}^+$: Capacity of the knapsack\n",
    "\n",
    "### Decision Variables\n",
    "\n",
    "$x_{i} \\in \\{0, 1 \\}$: This variable is equal to 1 if we take item $i \\in I$; and 0 otherwise.\n",
    "\n",
    "### Objective Function\n",
    "\n",
    "- **Total value**. We want to maximize the total value of the items selected to go into the knapsack. This is the sum of the values of the selected items.\n",
    "\n",
    "\\begin{equation}\n",
    "\\max Z= \\displaystyle \\sum_{i=0}^{n-1} v_ix_i\n",
    "\\tag{0}\n",
    "\\end{equation}\n",
    "\n",
    "### Constraints\n",
    "\n",
    "- **Capacity**. The total weight of the selected items $i \\in I$ must not exceed the capacity $K$ of the knapsack:\n",
    "\n",
    "\\begin{equation}\n",
    "\\displaystyle \\sum_{i=0}^{n-1} w_ix_i \\leq K \\text{ where } x_i \\in \\{0,1\\} \\ \\forall i \\in \\{ 0, \\ldots, n-1 \\}\n",
    "\\tag{1}\n",
    "\\end{equation}"
   ]
  },
  {
   "cell_type": "markdown",
   "metadata": {},
   "source": [
    "# Python implementation"
   ]
  },
  {
   "cell_type": "markdown",
   "metadata": {},
   "source": [
    "## Import the libraries\n",
    "\n",
    "The following code imports the required libraries."
   ]
  },
  {
   "cell_type": "code",
   "execution_count": 6,
   "metadata": {},
   "outputs": [
    {
     "ename": "ModuleNotFoundError",
     "evalue": "No module named 'ortools'",
     "output_type": "error",
     "traceback": [
      "\u001b[1;31m---------------------------------------------------------------------------\u001b[0m",
      "\u001b[1;31mModuleNotFoundError\u001b[0m                       Traceback (most recent call last)",
      "Cell \u001b[1;32mIn[6], line 1\u001b[0m\n\u001b[1;32m----> 1\u001b[0m \u001b[38;5;28;01mfrom\u001b[39;00m \u001b[38;5;21;01mortools\u001b[39;00m\u001b[38;5;21;01m.\u001b[39;00m\u001b[38;5;21;01malgorithms\u001b[39;00m\u001b[38;5;21;01m.\u001b[39;00m\u001b[38;5;21;01mpython\u001b[39;00m \u001b[38;5;28;01mimport\u001b[39;00m knapsack_solver\n\u001b[0;32m      2\u001b[0m \u001b[38;5;28;01mimport\u001b[39;00m \u001b[38;5;21;01mpandas\u001b[39;00m \u001b[38;5;28;01mas\u001b[39;00m \u001b[38;5;21;01mpd\u001b[39;00m\n",
      "\u001b[1;31mModuleNotFoundError\u001b[0m: No module named 'ortools'"
     ]
    }
   ],
   "source": [
    "from collections import namedtuple\n",
    "import pandas as pd"
   ]
  },
  {
   "cell_type": "markdown",
   "metadata": {},
   "source": [
    "## Item definition\n",
    "\n",
    "The item includes its index, value and weight."
   ]
  },
  {
   "cell_type": "code",
   "execution_count": null,
   "metadata": {},
   "outputs": [],
   "source": [
    "Item = namedtuple(\"Item\", ['index', 'value', 'weight'])"
   ]
  },
  {
   "cell_type": "markdown",
   "metadata": {},
   "source": [
    "## Create the data\n",
    "\n",
    "The code below creates the data for the problem.  "
   ]
  },
  {
   "cell_type": "markdown",
   "metadata": {},
   "source": [
    "### Read the file"
   ]
  },
  {
   "cell_type": "code",
   "execution_count": null,
   "metadata": {},
   "outputs": [],
   "source": [
    "url = 'https://raw.githubusercontent.com/jacubero/Optimization/main/knapsack/data/ks_30_0'\n",
    "df = pd.read_csv(url, sep=\" \", header=None)\n",
    "df.head()"
   ]
  },
  {
   "cell_type": "code",
   "execution_count": null,
   "metadata": {},
   "outputs": [],
   "source": [
    "item_count = int(df.at[0,0])\n",
    "capacity = int(df.at[0,1])\n",
    "\n",
    "print(\"Number of items =\", item_count)\n",
    "print(\"Capacity of the knapsack =\", capacity)\n",
    "\n",
    "items = []\n",
    "\n",
    "for i in range(1, item_count+1):\n",
    "    items.append(Item(i,df.at[i,0],df.at[i,1]))"
   ]
  },
  {
   "cell_type": "markdown",
   "metadata": {},
   "source": [
    "## Get expectation\n",
    "\n",
    "Get the max value expectation from current capacity and current undecided item."
   ]
  },
  {
   "cell_type": "code",
   "execution_count": null,
   "metadata": {},
   "outputs": [],
   "source": [
    "def get_expectation(items, capacity, start):\n",
    "\texpectation = 0.0\n",
    "\tfor i in range(start, len(items)):\n",
    "\t\titem = items[i]\n",
    "\t\tif capacity >= item.weight:\n",
    "\t\t\texpectation += item.value\n",
    "\t\t\tcapacity -= item.weight\n",
    "\t\t\n",
    "\t\t# if current capacity is not enough to carry the whole item, then put a fraction of it into the knapsack\n",
    "\t\t# and add the same fraction of its value to the expectation\n",
    "\t\telse:\n",
    "\t\t\texpectation += item.value * capacity / item.weight\n",
    "\t\t\tbreak\n",
    "\n",
    "\treturn expectation"
   ]
  },
  {
   "cell_type": "markdown",
   "metadata": {},
   "source": [
    "### Search\n",
    "\n",
    "Find max value and the take/no-take choice for each item."
   ]
  },
  {
   "cell_type": "code",
   "execution_count": null,
   "metadata": {},
   "outputs": [],
   "source": [
    "def search(items,  capacity):\n",
    "\t\n",
    "\tmax_value = 0.0\n",
    "\tmax_taken = [0]*len(items)\n",
    "\n",
    "\t# To prevent from stack-overflow, instead of using plain recursion here I maintain the stack myself\n",
    "\t# a stack element includes 5 parts:\n",
    "\t# value:         value accumulated so far\n",
    "\t# capacity:      left capacity\n",
    "\t# expectation:   upper bound of value that can get with the left capacity\n",
    "\t# taken:         current take/no-take choice of each item\n",
    "\t# pos:           next item to consider\n",
    "\n",
    "\tstart_value = 0.0\n",
    "\tstart_capacity = capacity\n",
    "\tstart_expectation = get_expectation(items, capacity, 0)\n",
    "\tlist_size = len(items)\n",
    "\tstart_taken = [0]*list_size\n",
    "\tstart_pos = 0\n",
    "\n",
    "\tStackElem = namedtuple(\"StackElem\", ['value', 'capacity', 'expectation', 'taken', 'pos'])\n",
    "\tstack = []\n",
    "\tstack.append(StackElem(start_value, start_capacity, start_expectation, start_taken, start_pos))\n",
    "\n",
    "\twhile stack:\n",
    "\t\tCurrent = stack.pop()\n",
    "\n",
    "\t\t# If left capacity is not enough, then backtrack\n",
    "\t\tif Current.capacity < 0:\n",
    "\t\t\tcontinue\n",
    "\t\t\n",
    "\t\t# If current expectation is smaller than the best value, then backtrack\n",
    "\t\tif Current.expectation <= max_value:\n",
    "\t\t\tcontinue\n",
    "\n",
    "\t\t# If max value is smaller than current value, update max value and its item-take choices\n",
    "\t\tif max_value < Current.value:\n",
    "\t\t\tmax_value = Current.value\n",
    "\t\t\tmax_taken = Current.taken\n",
    "\n",
    "\t\t# If next item to consider dose not exist, then backtrack\n",
    "\t\tif Current.pos >= list_size: \n",
    "\t\t\tcontinue\n",
    "\n",
    "\t\tCurrentItem = items[Current.pos]\n",
    "    \n",
    "\t\t# Try not to take the next item\n",
    "\t\tnotake_value = Current.value\n",
    "\t\tnotake_capacity = Current.capacity\n",
    "\t\tnotake_expectation = notake_value + get_expectation(items, notake_capacity, Current.pos + 1)\n",
    "\t\tnotake_taken = Current.taken\n",
    "        \n",
    "\t\tstack.append(StackElem(notake_value, notake_capacity, notake_expectation, notake_taken, Current.pos + 1))\n",
    "    \n",
    "\t\t# Try to take the next item\n",
    "\t\ttake_value = Current.value + CurrentItem.value\n",
    "\t\ttake_capacity = Current.capacity - CurrentItem.weight\n",
    "\t\ttake_expectation = take_value + get_expectation(items, take_capacity, Current.pos + 1)\n",
    "\t\ttake_taken = Current.taken\n",
    "\t\ttake_taken[CurrentItem.index-1] = 1\n",
    "        \n",
    "\t\tstack.append(StackElem(take_value, take_capacity, take_expectation, take_taken, Current.pos + 1))\n",
    "\t\n",
    "\treturn max_value, max_taken"
   ]
  },
  {
   "cell_type": "markdown",
   "metadata": {},
   "source": [
    "### Sort the items\n",
    "\n",
    "Sort the items, so that they are in value density decreasing order"
   ]
  },
  {
   "cell_type": "code",
   "execution_count": null,
   "metadata": {},
   "outputs": [],
   "source": [
    "sorted(items, key=lambda x: getattr(x, 'value')/getattr(x, 'weight'), reverse=True)"
   ]
  },
  {
   "cell_type": "markdown",
   "metadata": {},
   "source": [
    "### Search"
   ]
  },
  {
   "cell_type": "code",
   "execution_count": null,
   "metadata": {},
   "outputs": [],
   "source": [
    "value, taken = search(items, capacity)"
   ]
  },
  {
   "cell_type": "markdown",
   "metadata": {},
   "source": [
    "## Prints the solution\n",
    "\n",
    "Prints the solution in the specified output format"
   ]
  },
  {
   "cell_type": "code",
   "execution_count": null,
   "metadata": {},
   "outputs": [],
   "source": [
    "output_data = str(value) + ' ' + str(1) + '\\n'\n",
    "output_data += ' '.join(map(str, taken))\n",
    "\n",
    "print(output_data)"
   ]
  },
  {
   "cell_type": "markdown",
   "metadata": {},
   "source": [
    "# Shell script execution"
   ]
  },
  {
   "cell_type": "markdown",
   "metadata": {},
   "source": [
    "## Upload data"
   ]
  },
  {
   "cell_type": "code",
   "execution_count": null,
   "metadata": {},
   "outputs": [],
   "source": [
    "%%shell\n",
    "\n",
    "wget -nc -P ./data https://raw.githubusercontent.com/jacubero/Optimization/main/knapsack/data/data.zip\n",
    "cd data\n",
    "unzip data.zip\n",
    "rm data.zip\n",
    "ls"
   ]
  },
  {
   "cell_type": "markdown",
   "metadata": {},
   "source": [
    "## Execute solver"
   ]
  },
  {
   "cell_type": "code",
   "execution_count": null,
   "metadata": {},
   "outputs": [],
   "source": [
    "%%shell\n",
    "\n",
    "wget -nc https://raw.githubusercontent.com/jacubero/Optimization/main/knapsack/or_branch_and_bound/solver.py\n",
    "\n",
    "mkdir -p or_branch_and_bound\n",
    "\n",
    "for file in $(ls ./data/*)\n",
    "do\n",
    "  filename=\"$(basename \"$file\")\"\n",
    "  python3 solver.py $file > ./or_branch_and_bound/$filename.orb\n",
    "done"
   ]
  }
 ],
 "metadata": {
  "kernelspec": {
   "display_name": "Python 3",
   "language": "python",
   "name": "python3"
  },
  "language_info": {
   "codemirror_mode": {
    "name": "ipython",
    "version": 3
   },
   "file_extension": ".py",
   "mimetype": "text/x-python",
   "name": "python",
   "nbconvert_exporter": "python",
   "pygments_lexer": "ipython3",
   "version": "3.8.5"
  }
 },
 "nbformat": 4,
 "nbformat_minor": 2
}
